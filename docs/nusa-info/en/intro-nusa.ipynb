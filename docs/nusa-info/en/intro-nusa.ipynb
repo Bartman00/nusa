{
 "cells": [
  {
   "cell_type": "markdown",
   "metadata": {},
   "source": [
    "# Una introducción a NuSA\n",
    "\n",
    "**NuSA** es una librería Python para resolver problemas de análisis estructural bidimensional. \n",
    "La idea es tener una estructura de códigos escritos utilizando la programación orientada a \n",
    "objetos, de modo que sea posible crear instancias de un modelo de elemento finito y operar \n",
    "con éste mediante métodos de clase.\n",
    "\n",
    "La estructura de **NuSA** está basada en tres clases fundamentales que componen el *core*: \n",
    "`Model`, `Element`, `Node`.\n",
    "\n",
    "![](src/intro-nusa/nusa_structure.png)\n"
   ]
  },
  {
   "cell_type": "code",
   "execution_count": 42,
   "metadata": {
    "collapsed": false
   },
   "outputs": [],
   "source": [
    "import nusa as ns\n",
    "\n",
    "P = 2e4\n",
    "n1, n2 = ns.Node((0,0)), ns.Node((0,0))\n",
    "e1 = ns.Spring((n1,n2), 1000)\n",
    "m = ns.SpringModel()\n",
    "m.addNode(n1)\n",
    "m.addNode(n2)\n",
    "m.addElement(e1)\n",
    "m.addConstraint(n1, ux=0)\n",
    "m.addForce(n2, (P,))\n",
    "m.solve()"
   ]
  },
  {
   "cell_type": "code",
   "execution_count": 43,
   "metadata": {
    "collapsed": false
   },
   "outputs": [
    {
     "name": "stdout",
     "output_type": "stream",
     "text": [
      "[[ 1000 -1000]\n",
      " [-1000  1000]]\n"
     ]
    }
   ],
   "source": [
    "print e1.getElementStiffness()"
   ]
  },
  {
   "cell_type": "code",
   "execution_count": null,
   "metadata": {
    "collapsed": true
   },
   "outputs": [],
   "source": []
  }
 ],
 "metadata": {
  "kernelspec": {
   "display_name": "Python 2",
   "language": "python",
   "name": "python2"
  },
  "language_info": {
   "codemirror_mode": {
    "name": "ipython",
    "version": 2
   },
   "file_extension": ".py",
   "mimetype": "text/x-python",
   "name": "python",
   "nbconvert_exporter": "python",
   "pygments_lexer": "ipython2",
   "version": "2.7.11"
  }
 },
 "nbformat": 4,
 "nbformat_minor": 1
}
