{
 "cells": [
  {
   "cell_type": "markdown",
   "metadata": {},
   "source": [
    "# Elemento `LinearTriangle`\n",
    "\n",
    "El elemento `LinearTriangle` es un elemento finito bidimensional con coordenadas locales y globales, caracterizado por una función de forma lineal. Puede ser utilizado para problemas de esfuerzo y deformación plana. Este elemento tiene un módulo de elasticidad $E$, una relación de Poisson $\\nu$ y un espesor $t$. Cada triangulo tiene tres nodos con dos grados de libertad en el plano (`ux` y `uy`), las coordenadas globales de estos nodos se denotan por $(x_i,y_i)$, $(x_j,y_j)$ y $(x_m,y_m)$ (como se muestra en la figura). El orden de los nodos para cada elemento es importante y deben listarse en sentido antihorario comenzando desde cualquier nodo.\n",
    "\n",
    "<img src=\"src/linear-triangle-element/linear_triangle_element.PNG\" width=\"200px\">\n",
    "\n",
    "La matriz de rigidez por elemento viene dada por:\n",
    "\n",
    "$$ [k] = tA[B]^T[D][B] $$\n",
    "\n",
    "Donde $A$ es el área del elemento dada por:\n",
    "\n",
    "$$ A = \\frac{1}{2} \\left( x_i(y_j-y_m) + x_j(y_m - y_i) + x_m(y_i - y_j) \\right) $$\n",
    "\n",
    "y $[B]$ es la matriz dada por:\n",
    "\n",
    "$$\n",
    "[B] = \\frac{1}{2A}\n",
    "\\begin{bmatrix}\n",
    "\\beta_i & 0 & \\beta_j & 0 & \\beta_m & 0 \\\\\n",
    "0 & \\gamma_i & 0 & \\gamma_j & 0 & \\gamma_m \\\\\n",
    "\\gamma_i & \\beta_i & \\gamma_j & \\beta_j & \\gamma_m & \\beta_m \\\\\n",
    "\\end{bmatrix}\n",
    "$$\n",
    "\n",
    "Donde $\\beta_i$, $\\beta_j$, $\\beta_m$, $\\gamma_i$, $\\gamma_j$ y $\\gamma_m$ están dados por:\n",
    "\n",
    "$$ \\beta_i = y_j - y_m $$\n",
    "$$ \\beta_j = y_m - y_i $$\n",
    "$$ \\beta_m = y_i - y_j $$\n",
    "$$ \\gamma_i = x_m - x_j $$\n",
    "$$ \\gamma_j = x_i - x_m $$\n",
    "$$ \\gamma_m = x_j - x_i $$\n",
    "\n",
    "Para el caso de esfuerzo plano la matriz $D$ viene dada por:\n",
    "\n",
    "$$\n",
    "[D] = \\frac{E}{1-\\nu^2}\n",
    "\\begin{bmatrix}\n",
    "1 & \\nu & 0 \\\\\n",
    "\\nu & 1 & 0 \\\\\n",
    "0 & 0 & \\frac{1-\\nu}{2} \\\\\n",
    "\\end{bmatrix}\n",
    "$$\n",
    "\n",
    "Los esfuerzos en cada elemento se calculan mediante:\n",
    "\n",
    "$$ \\{\\sigma\\} = [D][B]\\{u\\} $$\n",
    "\n",
    "Donde $\\sigma$ es el vector de esfuerzos en el plano, es decir:\n",
    "\n",
    "$$ \\sigma = \\begin{Bmatrix} \\sigma_x \\\\ \\sigma_y \\\\ \\tau_{xy} \\end{Bmatrix} $$\n",
    "\n",
    "y $u$ el vector de desplazamientos en cada nodo del elemento:\n",
    "\n",
    "$$ \\{u\\} = \\begin{Bmatrix} ux_i \\\\ uy_i \\\\ ux_j \\\\ uy_j \\\\ ux_m \\\\ uy_m \\end{Bmatrix}$$"
   ]
  },
  {
   "cell_type": "markdown",
   "metadata": {},
   "source": [
    "## Ejemplo 1. Caso simple \n",
    "En este ejemplo vamos a resolver el caso más simple: un elemento triangular fijo en dos de sus nodos y con una fuerza aplicada en el tercero.\n",
    "\n",
    "Importamos **NuSA** e indicamos que usaremos el modo \"inline\" de matplotlib en este notebook"
   ]
  },
  {
   "cell_type": "code",
   "execution_count": 1,
   "metadata": {},
   "outputs": [],
   "source": [
    "%matplotlib inline\n",
    "from nusa import *"
   ]
  },
  {
   "cell_type": "markdown",
   "metadata": {},
   "source": [
    "Definimos algunas propiedades a utilizar:"
   ]
  },
  {
   "cell_type": "code",
   "execution_count": 2,
   "metadata": {},
   "outputs": [],
   "source": [
    "E = 200e9 # Módulo de elasticidad\n",
    "nu = 0.3 # Relación de Poisson\n",
    "t = 0.1 # Espesor"
   ]
  },
  {
   "cell_type": "markdown",
   "metadata": {},
   "source": [
    "Creamos los nodos y el elemento:"
   ]
  },
  {
   "cell_type": "code",
   "execution_count": 3,
   "metadata": {},
   "outputs": [],
   "source": [
    "n1 = Node((0,0))\n",
    "n2 = Node((1,0.5))\n",
    "n3 = Node((0,1))\n",
    "e1 = LinearTriangle((n1,n2,n3),E,nu,t)"
   ]
  },
  {
   "cell_type": "markdown",
   "metadata": {},
   "source": [
    "Creamos el modelo y agregamos los nodos y elementos a este:"
   ]
  },
  {
   "cell_type": "code",
   "execution_count": 4,
   "metadata": {},
   "outputs": [],
   "source": [
    "m = LinearTriangleModel(\"Modelo 01\")\n",
    "for n in (n1,n2,n3): m.add_node(n)\n",
    "m.add_element(e1)"
   ]
  },
  {
   "cell_type": "markdown",
   "metadata": {},
   "source": [
    "Aplicamos las condiciones de carga y restricciones:"
   ]
  },
  {
   "cell_type": "code",
   "execution_count": 5,
   "metadata": {},
   "outputs": [],
   "source": [
    "m.add_constraint(n1, ux=0, uy=0)\n",
    "m.add_constraint(n3, ux=0, uy=0)\n",
    "m.add_force(n2, (5e3, 0))"
   ]
  },
  {
   "cell_type": "markdown",
   "metadata": {},
   "source": [
    "En este punto podemos graficar el modelo con las condiciones impuestas, para esto utilizamos el método `plot_model`:"
   ]
  },
  {
   "cell_type": "code",
   "execution_count": 6,
   "metadata": {},
   "outputs": [],
   "source": [
    "# m.plot_model()"
   ]
  },
  {
   "cell_type": "markdown",
   "metadata": {},
   "source": [
    "Finalmente resolvemos el modelo:"
   ]
  },
  {
   "cell_type": "code",
   "execution_count": 7,
   "metadata": {},
   "outputs": [],
   "source": [
    "m.solve()"
   ]
  },
  {
   "cell_type": "markdown",
   "metadata": {},
   "source": [
    "Podemos consultar los desplazamientos nodales:"
   ]
  },
  {
   "cell_type": "code",
   "execution_count": 8,
   "metadata": {},
   "outputs": [
    {
     "name": "stdout",
     "output_type": "stream",
     "text": [
      "0 0\n",
      "4.55e-07 0.0\n",
      "0 0\n"
     ]
    }
   ],
   "source": [
    "for n in m.get_nodes():\n",
    "    print(n.ux,n.uy)"
   ]
  },
  {
   "cell_type": "markdown",
   "metadata": {},
   "source": [
    "Además, utilizar las herramientas de postproceso para graficar el campo de desplazamientos en el elemento:"
   ]
  },
  {
   "cell_type": "code",
   "execution_count": 9,
   "metadata": {},
   "outputs": [
    {
     "data": {
      "image/png": "[encoded data removed]",
      "text/plain": [
       "<matplotlib.figure.Figure at 0x8dad3c8>"
      ]
     },
     "metadata": {},
     "output_type": "display_data"
    }
   ],
   "source": [
    "m.plot_nsol('ux')"
   ]
  },
  {
   "cell_type": "markdown",
   "metadata": {},
   "source": [
    "## Placa simple, utilizando NuSA Modeler"
   ]
  },
  {
   "cell_type": "code",
   "execution_count": 17,
   "metadata": {},
   "outputs": [],
   "source": [
    "import nusa.mesh as nmsh\n",
    "\n",
    "md = nmsh.Modeler()\n",
    "BB, ES = 1, 0.1\n",
    "a = md.add_rectangle((0,0),(BB,BB), esize=ES)\n",
    "nc, ec = md.generate_mesh()\n",
    "x,y = nc[:,0], nc[:,1]\n",
    "\n",
    "nodos = []\n",
    "elementos = []\n",
    "\n",
    "for k,nd in enumerate(nc):\n",
    "    cn = Node((x[k],y[k]))\n",
    "    nodos.append(cn)\n",
    "    \n",
    "for k,elm in enumerate(ec):\n",
    "    i,j,m = int(elm[0]),int(elm[1]),int(elm[2])\n",
    "    ni,nj,nm = nodos[i],nodos[j],nodos[m]\n",
    "    ce = LinearTriangle((ni,nj,nm),200e9,0.3,0.25)\n",
    "    elementos.append(ce)\n",
    "\n",
    "m = LinearTriangleModel()\n",
    "for node in nodos: m.add_node(node)\n",
    "for elm in elementos: m.add_element(elm)\n",
    "    \n",
    "# Aplicando condiciones de frontera en los extremos\n",
    "minx, maxx = min(x), max(x)\n",
    "miny, maxy = min(y), max(y)\n",
    "\n",
    "P = 100e3/((BB/ES)+1)\n",
    "\n",
    "for node in nodos:\n",
    "    if node.x == minx:\n",
    "        m.add_constraint(node, ux=0, uy=0)\n",
    "    if node.x == maxx:\n",
    "        m.add_force(node, (P,0))\n",
    "\n",
    "#m.plot_model() # Bug\n",
    "m.solve()"
   ]
  },
  {
   "cell_type": "code",
   "execution_count": 18,
   "metadata": {},
   "outputs": [
    {
     "data": {
      "image/png": "[encoded data removed]",
      "text/plain": [
       "<matplotlib.figure.Figure at 0x9b0c710>"
      ]
     },
     "metadata": {},
     "output_type": "display_data"
    }
   ],
   "source": [
    "m.plot_nsol(\"seqv\")"
   ]
  },
  {
   "cell_type": "markdown",
   "metadata": {},
   "source": [
    "## Placa con agujero"
   ]
  },
  {
   "cell_type": "code",
   "execution_count": 20,
   "metadata": {},
   "outputs": [
    {
     "data": {
      "image/png": "[encoded data removed]",
      "text/plain": [
       "<matplotlib.figure.Figure at 0xb3410f0>"
      ]
     },
     "metadata": {},
     "output_type": "display_data"
    }
   ],
   "source": [
    "import nusa.mesh as nmsh\n",
    "\n",
    "md = nmsh.Modeler()\n",
    "a = md.add_rectangle((0,0),(1,1), esize=0.1)\n",
    "b = md.add_circle((0.5,0.5), 0.1, esize=0.05)\n",
    "md.substract_surfaces(a,b)\n",
    "nc, ec = md.generate_mesh()\n",
    "x,y = nc[:,0], nc[:,1]\n",
    "\n",
    "nodos = []\n",
    "elementos = []\n",
    "\n",
    "for k,nd in enumerate(nc):\n",
    "    cn = Node((x[k],y[k]))\n",
    "    nodos.append(cn)\n",
    "    \n",
    "for k,elm in enumerate(ec):\n",
    "    i,j,m = int(elm[0]),int(elm[1]),int(elm[2])\n",
    "    ni,nj,nm = nodos[i],nodos[j],nodos[m]\n",
    "    ce = LinearTriangle((ni,nj,nm),200e9,0.3,0.1)\n",
    "    elementos.append(ce)\n",
    "\n",
    "m = LinearTriangleModel()\n",
    "for node in nodos: m.add_node(node)\n",
    "for elm in elementos: m.add_element(elm)\n",
    "    \n",
    "# Aplicando condiciones de frontera en los extremos\n",
    "minx, maxx = min(x), max(x)\n",
    "miny, maxy = min(y), max(y)\n",
    "\n",
    "for node in nodos:\n",
    "    if node.x == minx:\n",
    "        m.add_constraint(node, ux=0, uy=0)\n",
    "    if node.x == maxx:\n",
    "        m.add_force(node, (10e3,0))\n",
    "\n",
    "#m.plot_model()\n",
    "m.solve()\n",
    "m.plot_nsol(\"seqv\")"
   ]
  },
  {
   "cell_type": "code",
   "execution_count": null,
   "metadata": {
    "collapsed": true
   },
   "outputs": [],
   "source": []
  }
 ],
 "metadata": {
  "kernelspec": {
   "display_name": "Python 3",
   "language": "python",
   "name": "python3"
  },
  "language_info": {
   "codemirror_mode": {
    "name": "ipython",
    "version": 3
   },
   "file_extension": ".py",
   "mimetype": "text/x-python",
   "name": "python",
   "nbconvert_exporter": "python",
   "pygments_lexer": "ipython3",
   "version": "3.6.3"
  }
 },
 "nbformat": 4,
 "nbformat_minor": 1
}
