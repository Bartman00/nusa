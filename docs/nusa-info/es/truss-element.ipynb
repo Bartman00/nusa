{
 "cells": [
  {
   "cell_type": "markdown",
   "metadata": {},
   "source": [
    "# Elemento `Bar`"
   ]
  },
  {
   "cell_type": "markdown",
   "metadata": {
    "collapsed": true
   },
   "source": [
    "El elemento `Truss` plano es un elemento finito con coordenadas locales y globales, tiene un modulo de elasticidad $E$, una sección transversal $A$ y una longitud $L$. Cada elemento tiene dos nodos y un ángulo de inclinación $\\theta$ medido en sentido antihorario desde el eje $X$ global, como se muestra en la figura. Sean $C=\\cos(\\theta)$ y $S=\\sin(\\theta)$, entonces la matriz de rigidez por elemento está dada por:\n",
    "\n",
    "$$\n",
    "k = \\frac{EA}{L}\n",
    "\\begin{bmatrix}\n",
    "C^2 & CS & -C^2 & -CS \\\\\n",
    "CS & S^2 & -CS & -S^2 \\\\\n",
    "-C^2 & -CS & C^2 & CS \\\\\n",
    "-CS & -S^2 & CS & S^2 \\\\\n",
    "\\end{bmatrix}\n",
    "$$\n",
    "\n",
    "<img src=\"src/truss-element/truss_element.PNG\" width=\"200px\">\n",
    "\n",
    "El elemento `Truss` tiene dos grados de libertad en cada nodo: desplazamientos en `x` e `y`. \n",
    "\n",
    "La fuerza en cada elemento se calcula como sigue:\n",
    "\n",
    "$$\n",
    "f = \\frac{EA}{L} \\begin{bmatrix} -C & -S & C & S \\end{bmatrix} \\left\\{ u \\right\\}\n",
    "$$\n",
    "\n",
    "Donde $f$ es la fuerza (escalar) en el elemento y $\\left\\{u\\right\\}$ el vector de desplazamientos en el elemento.\n",
    "\n",
    "El esfuerzo en el elemento se obtiene dividiendo la fuerza $f$ por la sección transversal, es decir:\n",
    "\n",
    "$$\n",
    "\\sigma = \\frac{f}{A}\n",
    "$$"
   ]
  },
  {
   "cell_type": "markdown",
   "metadata": {
    "collapsed": true
   },
   "source": [
    "## Ejemplo 1. Estructura simple de tres elementos"
   ]
  },
  {
   "cell_type": "code",
   "execution_count": 1,
   "metadata": {
    "collapsed": false
   },
   "outputs": [
    {
     "name": "stdout",
     "output_type": "stream",
     "text": [
      "\n",
      "==========================\n",
      "    NuSA Simple Report\n",
      "==========================\n",
      "\n",
      "Model: Truss Model 01\n",
      "Number of nodes: 3\n",
      "Number of elements: 3\n",
      "\n",
      "NODAL DISPLACEMENTS\n",
      "======  ===========  ====\n",
      "  Node           UX    UY\n",
      "======  ===========  ====\n",
      "     1            0     0\n",
      "     2            0     0\n",
      "     3  7.07107e-06     0\n",
      "======  ===========  ====\n",
      "\n",
      "NODAL FORCES\n",
      "======  ======  ======\n",
      "  Node      FX      FY\n",
      "======  ======  ======\n",
      "     1  -10000  -10000\n",
      "     2  -10000   10000\n",
      "     3   20000       0\n",
      "======  ======  ======\n",
      "\n",
      "ELEMENT FORCES\n",
      "=========  =======\n",
      "  Element        F\n",
      "=========  =======\n",
      "        1        0\n",
      "        2  14142.1\n",
      "        3  14142.1\n",
      "=========  =======\n",
      "\n",
      "ELEMENT STRESSES\n",
      "=========  ===========\n",
      "  Element            S\n",
      "=========  ===========\n",
      "        1            0\n",
      "        2  1.41421e+06\n",
      "        3  1.41421e+06\n",
      "=========  ===========\n",
      "\n",
      "\n",
      "FINITE-ELEMENT MODEL INFO\n",
      "\n",
      "NODES:\n",
      "======  ===  ===\n",
      "  Node    X    Y\n",
      "======  ===  ===\n",
      "     1    0    0\n",
      "     2    1    0\n",
      "     3  0.5  0.5\n",
      "======  ===  ===\n",
      "\n",
      "ELEMENTS:\n",
      "=========  ====  ====\n",
      "  Element    NI    NJ\n",
      "=========  ====  ====\n",
      "        1     1     2\n",
      "        2     1     3\n",
      "        3     2     3\n",
      "=========  ====  ====\n",
      "\n",
      "\n"
     ]
    }
   ],
   "source": [
    "%matplotlib inline\n",
    "from nusa import *\n",
    "from tabulate import tabulate\n",
    "\n",
    "E,A = 200e9, 0.01\n",
    "n1 = Node((0,0))\n",
    "n2 = Node((1,0))\n",
    "n3 = Node((0.5,0.5))\n",
    "e1 = Truss((n1,n2),E,A)\n",
    "e2 = Truss((n1,n3),E,A)\n",
    "e3 = Truss((n2,n3),E,A)\n",
    "m = TrussModel()\n",
    "for n in (n1,n2,n3): m.addNode(n)\n",
    "for e in (e1,e2,e3): m.addElement(e)\n",
    "m.addConstraint(n1, ux=0, uy=0)\n",
    "m.addConstraint(n2, ux=0, uy=0)\n",
    "m.addForce(n3, (20e3,0))\n",
    "#.plot_model()\n",
    "m.solve()\n",
    "#.plot_deformed_shape(1)\n",
    "m.simple_report()"
   ]
  },
  {
   "cell_type": "code",
   "execution_count": null,
   "metadata": {
    "collapsed": true
   },
   "outputs": [],
   "source": []
  }
 ],
 "metadata": {
  "kernelspec": {
   "display_name": "Python 2",
   "language": "python",
   "name": "python2"
  },
  "language_info": {
   "codemirror_mode": {
    "name": "ipython",
    "version": 2
   },
   "file_extension": ".py",
   "mimetype": "text/x-python",
   "name": "python",
   "nbconvert_exporter": "python",
   "pygments_lexer": "ipython2",
   "version": "2.7.11"
  }
 },
 "nbformat": 4,
 "nbformat_minor": 1
}
