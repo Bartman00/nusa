{
 "cells": [
  {
   "cell_type": "markdown",
   "metadata": {},
   "source": [
    "# Elemento `Truss`"
   ]
  },
  {
   "cell_type": "markdown",
   "metadata": {
    "collapsed": true
   },
   "source": [
    "El elemento `Truss` plano es un elemento finito con coordenadas locales y globales, tiene un modulo de elasticidad $E$, una sección transversal $A$ y una longitud $L$. Cada elemento tiene dos nodos y un ángulo de inclinación $\\theta$ medido en sentido antihorario desde el eje $X$ global, como se muestra en la figura. Sean $C=\\cos(\\theta)$ y $S=\\sin(\\theta)$, entonces la matriz de rigidez por elemento está dada por:\n",
    "\n",
    "$$\n",
    "k = \\frac{EA}{L}\n",
    "\\begin{bmatrix}\n",
    "C^2 & CS & -C^2 & -CS \\\\\n",
    "CS & S^2 & -CS & -S^2 \\\\\n",
    "-C^2 & -CS & C^2 & CS \\\\\n",
    "-CS & -S^2 & CS & S^2 \\\\\n",
    "\\end{bmatrix}\n",
    "$$\n",
    "\n",
    "<img src=\"src/truss-element/truss_element.PNG\" width=\"200px\">\n",
    "\n",
    "El elemento `Truss` tiene dos grados de libertad en cada nodo: desplazamientos en `X` e `Y`. \n",
    "\n",
    "La fuerza en cada elemento se calcula como sigue:\n",
    "\n",
    "$$\n",
    "f = \\frac{EA}{L} \\begin{bmatrix} -C & -S & C & S \\end{bmatrix} \\left\\{ u \\right\\}\n",
    "$$\n",
    "\n",
    "Donde $f$ es la fuerza (escalar) en el elemento y $\\left\\{u\\right\\}$ el vector de desplazamientos en el elemento. Una fuerza negativa indica que el elemento está sometido a compresión.\n",
    "\n",
    "El esfuerzo en el elemento se obtiene dividiendo la fuerza $f$ por la sección transversal, es decir:\n",
    "\n",
    "$$\n",
    "\\sigma = \\frac{f}{A}\n",
    "$$"
   ]
  },
  {
   "cell_type": "markdown",
   "metadata": {
    "collapsed": true
   },
   "source": [
    "## Ejemplo 1. Estructura simple de tres elementos\n",
    "\n",
    "Como primer ejemplo vamos a resolver una estructura simple de tres elementos, con un apoyo fijo en A, un soporte simple en C y una fuerza horizontal de 500 N en B, como se muestra en la figura.\n",
    "\n",
    "<figure>\n",
    "<img src=\"src/truss-element/example_01.png\" width=\"250px\">\n",
    "<center><figcaption>Fuente: [1]</figcaption></center>\n",
    "</figure>"
   ]
  },
  {
   "cell_type": "code",
   "execution_count": 1,
   "metadata": {},
   "outputs": [
    {
     "data": {
      "image/png": "[encoded data removed]",
      "text/plain": [
       "<matplotlib.figure.Figure at 0x80afe70>"
      ]
     },
     "metadata": {},
     "output_type": "display_data"
    }
   ],
   "source": [
    "%matplotlib inline\n",
    "from nusa import * # Importando nusa\n",
    "\n",
    "E,A = 210e9, 3.1416*(10e-3)**2\n",
    "n1 = Node((0,0))\n",
    "n2 = Node((2,0))\n",
    "n3 = Node((0,2))\n",
    "e1 = Truss((n1,n2),E,A)\n",
    "e2 = Truss((n1,n3),E,A)\n",
    "e3 = Truss((n2,n3),E,A)\n",
    "m = TrussModel()\n",
    "for n in (n1,n2,n3): m.add_node(n)\n",
    "for e in (e1,e2,e3): m.add_element(e)\n",
    "m.add_constraint(n1, ux=0, uy=0)\n",
    "m.add_constraint(n2, uy=0)\n",
    "m.add_force(n3, (500,0))\n",
    "m.plot_model()\n",
    "m.solve()"
   ]
  },
  {
   "cell_type": "code",
   "execution_count": 2,
   "metadata": {},
   "outputs": [
    {
     "data": {
      "image/png": "[encoded data removed]",
      "text/plain": [
       "<matplotlib.figure.Figure at 0x2eeb210>"
      ]
     },
     "metadata": {},
     "output_type": "display_data"
    }
   ],
   "source": [
    "m.plot_deformed_shape()"
   ]
  },
  {
   "cell_type": "code",
   "execution_count": 3,
   "metadata": {},
   "outputs": [
    {
     "name": "stdout",
     "output_type": "stream",
     "text": [
      "\n",
      "==========================\n",
      "    NuSA Simple Report\n",
      "==========================\n",
      "\n",
      "Model: Truss Model 01\n",
      "Number of nodes: 3\n",
      "Number of elements: 3\n",
      "\n",
      "NODAL DISPLACEMENTS\n",
      "======  ===========  ===========\n",
      "  Node           UX           UY\n",
      "======  ===========  ===========\n",
      "     1            0            0\n",
      "     2  1.51576e-05            0\n",
      "     3  7.31873e-05  1.51576e-05\n",
      "======  ===========  ===========\n",
      "\n",
      "NODAL FORCES\n",
      "======  ====  ===========\n",
      "  Node    FX           FY\n",
      "======  ====  ===========\n",
      "     1  -500         -500\n",
      "     2     0          500\n",
      "     3   500  1.13687e-13\n",
      "======  ====  ===========\n",
      "\n",
      "ELEMENT FORCES\n",
      "=========  ========\n",
      "  Element         F\n",
      "=========  ========\n",
      "        1       500\n",
      "        2       500\n",
      "        3  -707.107\n",
      "=========  ========\n",
      "\n",
      "ELEMENT STRESSES\n",
      "=========  ============\n",
      "  Element             S\n",
      "=========  ============\n",
      "        1   1.59155e+06\n",
      "        2   1.59155e+06\n",
      "        3  -2.25079e+06\n",
      "=========  ============\n",
      "\n",
      "\n",
      "FINITE-ELEMENT MODEL INFO\n",
      "\n",
      "NODES:\n",
      "======  ===  ===\n",
      "  Node    X    Y\n",
      "======  ===  ===\n",
      "     1    0    0\n",
      "     2    2    0\n",
      "     3    0    2\n",
      "======  ===  ===\n",
      "\n",
      "ELEMENTS:\n",
      "=========  ====  ====\n",
      "  Element    NI    NJ\n",
      "=========  ====  ====\n",
      "        1     1     2\n",
      "        2     1     3\n",
      "        3     2     3\n",
      "=========  ====  ====\n",
      "\n",
      "\n"
     ]
    }
   ],
   "source": [
    "m.simple_report()"
   ]
  },
  {
   "cell_type": "markdown",
   "metadata": {},
   "source": [
    "---\n",
    "\n",
    "## Ejemplo 2.\n",
    "\n",
    "\n",
    "<img src=\"src/truss-element/example_02.png\" width=\"300px\">"
   ]
  },
  {
   "cell_type": "code",
   "execution_count": 4,
   "metadata": {},
   "outputs": [
    {
     "data": {
      "image/png": "[encoded data removed]",
      "text/plain": [
       "<matplotlib.figure.Figure at 0x1bc7f50>"
      ]
     },
     "metadata": {},
     "output_type": "display_data"
    }
   ],
   "source": [
    "E,A = 200e9, 0.01\n",
    "n1 = Node((0,0))\n",
    "n2 = Node((6,0))\n",
    "n3 = Node((6,4))\n",
    "n4 = Node((3,4))\n",
    "e1 = Truss((n1,n2),E,A)\n",
    "e2 = Truss((n2,n3),E,A)\n",
    "e3 = Truss((n4,n3),E,A)\n",
    "e4 = Truss((n1,n4),E,A)\n",
    "e5 = Truss((n2,n4),E,A)\n",
    "m = TrussModel()\n",
    "for n in (n1,n2,n3,n4): m.add_node(n)\n",
    "for e in (e1,e2,e3,e4,e5): m.add_element(e)\n",
    "m.add_constraint(n1, uy=0)\n",
    "m.add_constraint(n3, ux=0, uy=0)\n",
    "m.add_force(n2, (600,0))\n",
    "m.add_force(n4, (0,-400))\n",
    "m.plot_model()\n",
    "m.solve()"
   ]
  },
  {
   "cell_type": "code",
   "execution_count": 5,
   "metadata": {},
   "outputs": [
    {
     "data": {
      "image/png": "[encoded data removed]",
      "text/plain": [
       "<matplotlib.figure.Figure at 0x8410630>"
      ]
     },
     "metadata": {},
     "output_type": "display_data"
    }
   ],
   "source": [
    "m.plot_deformed_shape()"
   ]
  },
  {
   "cell_type": "code",
   "execution_count": 6,
   "metadata": {},
   "outputs": [
    {
     "name": "stdout",
     "output_type": "stream",
     "text": [
      "\n",
      "==========================\n",
      "    NuSA Simple Report\n",
      "==========================\n",
      "\n",
      "Model: Truss Model 01\n",
      "Number of nodes: 4\n",
      "Number of elements: 5\n",
      "\n",
      "NODAL DISPLACEMENTS\n",
      "======  =========  ===========\n",
      "  Node         UX           UY\n",
      "======  =========  ===========\n",
      "     1  2.575e-06            0\n",
      "     2  3.925e-06        4e-07\n",
      "     3          0            0\n",
      "     4      9e-07  -1.0875e-06\n",
      "======  =========  ===========\n",
      "\n",
      "NODAL FORCES\n",
      "======  ============  ===========\n",
      "  Node            FX           FY\n",
      "======  ============  ===========\n",
      "     1  -2.84217e-14          600\n",
      "     2           600  1.13687e-13\n",
      "     3          -600         -200\n",
      "     4   1.56319e-13         -400\n",
      "======  ============  ===========\n",
      "\n",
      "ELEMENT FORCES\n",
      "=========  ====\n",
      "  Element     F\n",
      "=========  ====\n",
      "        1   450\n",
      "        2  -200\n",
      "        3  -600\n",
      "        4  -750\n",
      "        5   250\n",
      "=========  ====\n",
      "\n",
      "ELEMENT STRESSES\n",
      "=========  ======\n",
      "  Element       S\n",
      "=========  ======\n",
      "        1   45000\n",
      "        2  -20000\n",
      "        3  -60000\n",
      "        4  -75000\n",
      "        5   25000\n",
      "=========  ======\n",
      "\n",
      "\n",
      "FINITE-ELEMENT MODEL INFO\n",
      "\n",
      "NODES:\n",
      "======  ===  ===\n",
      "  Node    X    Y\n",
      "======  ===  ===\n",
      "     1    0    0\n",
      "     2    6    0\n",
      "     3    6    4\n",
      "     4    3    4\n",
      "======  ===  ===\n",
      "\n",
      "ELEMENTS:\n",
      "=========  ====  ====\n",
      "  Element    NI    NJ\n",
      "=========  ====  ====\n",
      "        1     1     2\n",
      "        2     2     3\n",
      "        3     4     3\n",
      "        4     1     4\n",
      "        5     2     4\n",
      "=========  ====  ====\n",
      "\n",
      "\n"
     ]
    }
   ],
   "source": [
    "m.simple_report()"
   ]
  },
  {
   "cell_type": "markdown",
   "metadata": {
    "collapsed": true
   },
   "source": [
    "## Ejemplo 3\n",
    "\n",
    "<figure>\n",
    "<img src=\"src/truss-element/example_03.png\" width=\"350px\">\n",
    "<center><figcaption>Fuente: [2]</figcaption></center>\n",
    "</figure>"
   ]
  },
  {
   "cell_type": "code",
   "execution_count": 7,
   "metadata": {},
   "outputs": [
    {
     "data": {
      "image/png": "[encoded data removed]",
      "text/plain": [
       "<matplotlib.figure.Figure at 0x829e1d0>"
      ]
     },
     "metadata": {},
     "output_type": "display_data"
    }
   ],
   "source": [
    "E,A = 29e6, 0.1\n",
    "n1 = Node((0,0)) # A\n",
    "n2 = Node((8*12,6*12)) # B\n",
    "n3 = Node((8*12,0)) # C\n",
    "n4 = Node((16*12,10*12)) # D\n",
    "n5 = Node((16*12,0)) # E\n",
    "n6 = Node((24*12,6*12)) # F\n",
    "n7 = Node((24*12,0)) # G\n",
    "n8 = Node((32*12,0)) # H\n",
    "\n",
    "e1 = Truss((n1,n2),E,A)\n",
    "e2 = Truss((n1,n3),E,A)\n",
    "e3 = Truss((n2,n3),E,A)\n",
    "e4 = Truss((n2,n4),E,A)\n",
    "e5 = Truss((n2,n5),E,A)\n",
    "e6 = Truss((n3,n5),E,A)\n",
    "e7 = Truss((n4,n5),E,A)\n",
    "e8 = Truss((n4,n6),E,A)\n",
    "e9 = Truss((n5,n6),E,A)\n",
    "e10 = Truss((n5,n7),E,A)\n",
    "e11 = Truss((n6,n7),E,A)\n",
    "e12 = Truss((n6,n8),E,A)\n",
    "e13 = Truss((n7,n8),E,A)\n",
    "\n",
    "m = TrussModel(\"Gambrel Roof\")\n",
    "for n in (n1,n2,n3,n4,n5,n6,n7,n8): m.add_node(n)\n",
    "for e in (e1,e2,e3,e4,e5,e6,e7,e8,e9,e10,e11,e12,e13): m.add_element(e)\n",
    "\n",
    "m.add_constraint(n1, uy=0)\n",
    "m.add_constraint(n8, ux=0, uy=0)\n",
    "m.add_force(n2, (0,-600))\n",
    "m.add_force(n4, (0,-600))\n",
    "m.add_force(n6, (0,-600))\n",
    "m.add_force(n8, (0,-600))\n",
    "m.add_force(n1, (0,-600))\n",
    "m.plot_model()\n",
    "m.solve()"
   ]
  },
  {
   "cell_type": "code",
   "execution_count": 8,
   "metadata": {},
   "outputs": [
    {
     "data": {
      "image/png": "[encoded data removed]",
      "text/plain": [
       "<matplotlib.figure.Figure at 0x81e9690>"
      ]
     },
     "metadata": {},
     "output_type": "display_data"
    }
   ],
   "source": [
    "m.plot_deformed_shape()"
   ]
  },
  {
   "cell_type": "code",
   "execution_count": 9,
   "metadata": {},
   "outputs": [
    {
     "name": "stdout",
     "output_type": "stream",
     "text": [
      "\n",
      "==========================\n",
      "    NuSA Simple Report\n",
      "==========================\n",
      "\n",
      "Model: Gambrel Roof\n",
      "Number of nodes: 8\n",
      "Number of elements: 13\n",
      "\n",
      "NODAL DISPLACEMENTS\n",
      "======  ==========  =========\n",
      "  Node          UX         UY\n",
      "======  ==========  =========\n",
      "     1   -0.158897          0\n",
      "     2  -0.0421247  -0.259144\n",
      "     3   -0.119172  -0.259144\n",
      "     4  -0.0794483  -0.273323\n",
      "     5  -0.0794483  -0.288219\n",
      "     6   -0.116772  -0.259144\n",
      "     7  -0.0397241  -0.259144\n",
      "     8           0          0\n",
      "======  ==========  =========\n",
      "\n",
      "NODAL FORCES\n",
      "======  ============  ============\n",
      "  Node            FX            FY\n",
      "======  ============  ============\n",
      "     1   9.09495e-13           900\n",
      "     2  -9.09495e-13          -600\n",
      "     3  -9.09495e-13   1.62897e-12\n",
      "     4             0          -600\n",
      "     5   2.27374e-12  -9.09495e-13\n",
      "     6  -1.36424e-12          -600\n",
      "     7             0   1.90023e-13\n",
      "     8             0           900\n",
      "======  ============  ============\n",
      "\n",
      "ELEMENT FORCES\n",
      "=========  ===========\n",
      "  Element            F\n",
      "=========  ===========\n",
      "        1        -1500\n",
      "        2         1200\n",
      "        3  2.23587e-12\n",
      "        4     -1073.31\n",
      "        5         -300\n",
      "        6         1200\n",
      "        7         -360\n",
      "        8     -1073.31\n",
      "        9         -300\n",
      "       10         1200\n",
      "       11            0\n",
      "       12        -1500\n",
      "       13         1200\n",
      "=========  ===========\n",
      "\n",
      "ELEMENT STRESSES\n",
      "=========  ===========\n",
      "  Element            S\n",
      "=========  ===========\n",
      "        1       -15000\n",
      "        2        12000\n",
      "        3  2.23587e-11\n",
      "        4     -10733.1\n",
      "        5        -3000\n",
      "        6        12000\n",
      "        7        -3600\n",
      "        8     -10733.1\n",
      "        9        -3000\n",
      "       10        12000\n",
      "       11            0\n",
      "       12       -15000\n",
      "       13        12000\n",
      "=========  ===========\n",
      "\n",
      "\n",
      "FINITE-ELEMENT MODEL INFO\n",
      "\n",
      "NODES:\n",
      "======  ===  ===\n",
      "  Node    X    Y\n",
      "======  ===  ===\n",
      "     1    0    0\n",
      "     2   96   72\n",
      "     3   96    0\n",
      "     4  192  120\n",
      "     5  192    0\n",
      "     6  288   72\n",
      "     7  288    0\n",
      "     8  384    0\n",
      "======  ===  ===\n",
      "\n",
      "ELEMENTS:\n",
      "=========  ====  ====\n",
      "  Element    NI    NJ\n",
      "=========  ====  ====\n",
      "        1     1     2\n",
      "        2     1     3\n",
      "        3     2     3\n",
      "        4     2     4\n",
      "        5     2     5\n",
      "        6     3     5\n",
      "        7     4     5\n",
      "        8     4     6\n",
      "        9     5     6\n",
      "       10     5     7\n",
      "       11     6     7\n",
      "       12     6     8\n",
      "       13     7     8\n",
      "=========  ====  ====\n",
      "\n",
      "\n"
     ]
    }
   ],
   "source": [
    "m.simple_report()"
   ]
  },
  {
   "cell_type": "markdown",
   "metadata": {
    "collapsed": true
   },
   "source": [
    "## Referencias\n",
    "\n",
    "* [1] Hibbeler, R.C. (2010). *Engineering Mechanics, Statics*. Pearson\n",
    "* [2] Beer, F.P. et. al. (2013) *Vector Mechanics for Engineers, Statics and Dynamics*. McGraw-Hill"
   ]
  }
 ],
 "metadata": {
  "kernelspec": {
   "display_name": "Python 3",
   "language": "python",
   "name": "python3"
  },
  "language_info": {
   "codemirror_mode": {
    "name": "ipython",
    "version": 3
   },
   "file_extension": ".py",
   "mimetype": "text/x-python",
   "name": "python",
   "nbconvert_exporter": "python",
   "pygments_lexer": "ipython3",
   "version": "3.6.3"
  }
 },
 "nbformat": 4,
 "nbformat_minor": 1
}
