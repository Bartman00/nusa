{
 "cells": [
  {
   "cell_type": "markdown",
   "metadata": {},
   "source": [
    "# Una introducción a NuSA\n",
    "\n",
    "**NuSA** es una librería Python para resolver problemas de análisis estructural bidimensional. \n",
    "La idea es tener una estructura de códigos escritos utilizando la programación orientada a \n",
    "objetos, de modo que sea posible crear instancias de un modelo de elemento finito y operar \n",
    "con éste mediante métodos de clase.\n",
    "\n",
    "La estructura de **NuSA** está basada en tres clases fundamentales que componen el *core*: \n",
    "`Model`, `Element`, `Node`.\n",
    "\n",
    "![](src/intro-nusa/nusa_structure.png)\n"
   ]
  },
  {
   "cell_type": "code",
   "execution_count": 1,
   "metadata": {
    "collapsed": true
   },
   "outputs": [],
   "source": [
    "%matplotlib inline\n",
    "import matplotlib.pyplot as"
   ]
  },
  {
   "cell_type": "code",
   "execution_count": null,
   "metadata": {
    "collapsed": true
   },
   "outputs": [],
   "source": []
  }
 ],
 "metadata": {
  "kernelspec": {
   "display_name": "Python 2",
   "language": "python",
   "name": "python2"
  },
  "language_info": {
   "codemirror_mode": {
    "name": "ipython",
    "version": 2
   },
   "file_extension": ".py",
   "mimetype": "text/x-python",
   "name": "python",
   "nbconvert_exporter": "python",
   "pygments_lexer": "ipython2",
   "version": "2.7.11"
  }
 },
 "nbformat": 4,
 "nbformat_minor": 1
}
