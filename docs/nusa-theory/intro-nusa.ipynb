{
 "cells": [
  {
   "cell_type": "markdown",
   "metadata": {},
   "source": [
    "# Una introducción a NuSA\n",
    "\n",
    "**NuSA** es una librería Python para resolver problemas de análisis estructural bidimensional. \n",
    "La idea es tener una estructura de códigos escritos utilizando la programación orientada a \n",
    "objetos, de modo que sea posible crear instancias de un modelo de elemento finito y operar \n",
    "con éste mediante métodos de clase.\n",
    "\n",
    "La estructura de **NuSA** está basada en tres clases fundamentales que componen el *core*: \n",
    "`Model`, `Element`, `Node`.\n",
    "\n",
    "![](src/intro-nusa/nusa_structure.png)\n"
   ]
  },
  {
   "cell_type": "code",
   "execution_count": 15,
   "metadata": {
    "collapsed": false
   },
   "outputs": [
    {
     "name": "stdout",
     "output_type": "stream",
     "text": [
      "a) Matriz global:\n",
      " [[ 1000.     0. -1000.     0.]\n",
      " [    0.  3000.     0. -3000.]\n",
      " [-1000.     0.  3000. -2000.]\n",
      " [    0. -3000. -2000.  5000.]]\n",
      "\n",
      "b) Desplazamientos de nodos 3 y 4\n",
      "UX3: 0.909090909091\n",
      "UX4: 1.36363636364\n",
      "\n",
      "c) Fuerzas nodales en 1 y 2\n",
      "FX1: -909.090909091\n",
      "FX2: -4090.90909091\n",
      "\n",
      "d) Fuerzas en elementos\n",
      "FE1:\n",
      " [[-909.09090909]\n",
      " [ 909.09090909]]\n",
      "FE2:\n",
      " [[-909.09090909]\n",
      " [ 909.09090909]]\n",
      "FE3:\n",
      " [[ 4090.90909091]\n",
      " [-4090.90909091]]\n"
     ]
    }
   ],
   "source": [
    "from nusa.core import *\n",
    "from nusa.model import *\n",
    "from nusa.element import *\n",
    "\n",
    "\"\"\"\n",
    "Logan, D. (2007). A first course in the finite element analysis.\n",
    "Example 2.1, pp. 42.\n",
    "\"\"\"\n",
    "P = 5000.0\n",
    "k1, k2, k3 = 1000, 2000, 3000\n",
    "# Model\n",
    "m1 = SpringModel(\"2D Model\")\n",
    "# Nodes\n",
    "n1 = Node((0,0))\n",
    "n2 = Node((0,0))\n",
    "n3 = Node((0,0))\n",
    "n4 = Node((0,0))\n",
    "# Elements\n",
    "e1 = Spring((n1,n3),k1)\n",
    "e2 = Spring((n3,n4),k2)\n",
    "e3 = Spring((n4,n2),k3)\n",
    "\n",
    "# Add elements \n",
    "for nd in (n1,n2,n3,n4):\n",
    "    m1.addNode(nd)\n",
    "for el in (e1,e2,e3):\n",
    "    m1.addElement(el)\n",
    "\n",
    "m1.addForce(n4,(P,))\n",
    "m1.addConstraint(n1,ux=0)\n",
    "m1.addConstraint(n2,ux=0)\n",
    "m1.solve()\n",
    "\n",
    "# a) Matriz global\n",
    "print \"a) Matriz global:\\n {0}\".format(m1.KG)\n",
    "# b) Desplazamiento en los nodos 3 y 4\n",
    "print \"\\nb) Desplazamientos de nodos 3 y 4\"\n",
    "print \"UX3: {0}\".format(n3.ux)\n",
    "print \"UX4: {0}\".format(n4.ux)\n",
    "# c) Fuerzas de reacción en los nodos 1 y 2\n",
    "print \"\\nc) Fuerzas nodales en 1 y 2\"\n",
    "print \"FX1: {0}\".format(n1.fx)\n",
    "print \"FX2: {0}\".format(n2.fx)\n",
    "# d) Fuerzas en cada resorte\n",
    "print \"\\nd) Fuerzas en elementos\"\n",
    "print \"FE1:\\n {0}\".format(e1.fx)\n",
    "print \"FE2:\\n {0}\".format(e2.fx)\n",
    "print \"FE3:\\n {0}\".format(e3.fx)"
   ]
  },
  {
   "cell_type": "code",
   "execution_count": 16,
   "metadata": {
    "collapsed": false
   },
   "outputs": [
    {
     "data": {
      "text/plain": [
       "''"
      ]
     },
     "execution_count": 16,
     "metadata": {},
     "output_type": "execute_result"
    }
   ],
   "source": [
    "ANOD = [Node((0,0)) for n in range(10)]\n",
    "ANOD[1].label"
   ]
  },
  {
   "cell_type": "code",
   "execution_count": null,
   "metadata": {
    "collapsed": true
   },
   "outputs": [],
   "source": []
  }
 ],
 "metadata": {
  "kernelspec": {
   "display_name": "Python 2",
   "language": "python",
   "name": "python2"
  },
  "language_info": {
   "codemirror_mode": {
    "name": "ipython",
    "version": 2
   },
   "file_extension": ".py",
   "mimetype": "text/x-python",
   "name": "python",
   "nbconvert_exporter": "python",
   "pygments_lexer": "ipython2",
   "version": "2.7.11"
  }
 },
 "nbformat": 4,
 "nbformat_minor": 1
}
