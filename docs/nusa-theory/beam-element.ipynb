{
 "cells": [
  {
   "cell_type": "markdown",
   "metadata": {},
   "source": [
    "# Elemento `Beam`\n",
    "\n",
    "## Fundamento teórico\n",
    "\n",
    "El elemento `Beam` (viga) es un elemento finito bidimensional donde las coordenadas locales y globales coinciden. Está caracterizado por una función de forma lineal. El elemento `Beam` tiene un modulo de elasticidad *E*, momento de inercia *I* y longitud *L*. Cada elemento `Beam` tiene dos nodos y se asume horizontal como se muestra en la figura. En este caso la matriz de rigidez del elemento está dada por la matriz siguiente, asumiendo que la deformación axial es despreciable:\n",
    "\n",
    "$$\n",
    "k = \\frac{EI}{L^3}\n",
    "\\begin{bmatrix}\n",
    "12 & 6L & -12 & 6L \\\\\n",
    "6L & 4L^2 & -6L & 2L^2 \\\\\n",
    "-12 & -6L & 12 & -6L \\\\\n",
    "6L & 2L^2 & -6L & 4L^2 \n",
    "\\end{bmatrix}\n",
    "$$\n",
    "\n",
    "<img src=\"src/beam-element/beam_element.png\" width=\"200px\"> </img>\n",
    "\n",
    "Está claro que el elemento `Beam` tiene cuatro grados de libertad, dos en cada nodo: un desplazamiento transversal y una rotación. La convención de signos utilizada es la tradicional: los desplazamientos son positivos hacia arriba y las rotaciones cuando son antihorario."
   ]
  },
  {
   "cell_type": "markdown",
   "metadata": {},
   "source": [
    "## Ejemplos resueltos\n",
    "\n",
    "**Ejemplo 1**. Determine los desplazamientos nodales y rotaciones, fuerzas nodales globales, y fuerzas en elementos para la viga mostrada en la figura. Se ha discretizado la viga como se indica en la numeración nodal. La viga está fija en los nodos 1 y 5, y tiene un soporte de rodillo en el nodo 3. Las cargas verticales de 10 000 lb cada una son aplicadas en los nodos 2 y 4. Sea E=300x10<sup>6</sup> psi and I=500 in<sup>4</sup>.\n",
    "\n",
    "<img src=\"src/beam-element/logan_E42.png\" width=\"400px\"> </img>"
   ]
  },
  {
   "cell_type": "code",
   "execution_count": null,
   "metadata": {
    "collapsed": true
   },
   "outputs": [],
   "source": []
  }
 ],
 "metadata": {
  "kernelspec": {
   "display_name": "Python 2",
   "language": "python",
   "name": "python2"
  },
  "language_info": {
   "codemirror_mode": {
    "name": "ipython",
    "version": 2
   },
   "file_extension": ".py",
   "mimetype": "text/x-python",
   "name": "python",
   "nbconvert_exporter": "python",
   "pygments_lexer": "ipython2",
   "version": "2.7.11"
  }
 },
 "nbformat": 4,
 "nbformat_minor": 0
}
